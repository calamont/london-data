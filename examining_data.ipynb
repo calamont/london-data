{
 "cells": [
  {
   "cell_type": "markdown",
   "metadata": {},
   "source": [
    "# Examining data\n",
    "We need to filter down our data before training our text generation model. Ideally the jistings we feed the model will reference the features (e.g. number of rooms) in the descriptions."
   ]
  },
  {
   "cell_type": "code",
   "execution_count": 1,
   "metadata": {},
   "outputs": [],
   "source": [
    "import pandas as pd\n",
    "\n",
    "df = pd.read_json(\"listings.json\")"
   ]
  },
  {
   "cell_type": "code",
   "execution_count": 2,
   "metadata": {},
   "outputs": [
    {
     "data": {
      "text/html": [
       "<div>\n",
       "<style scoped>\n",
       "    .dataframe tbody tr th:only-of-type {\n",
       "        vertical-align: middle;\n",
       "    }\n",
       "\n",
       "    .dataframe tbody tr th {\n",
       "        vertical-align: top;\n",
       "    }\n",
       "\n",
       "    .dataframe thead th {\n",
       "        text-align: right;\n",
       "    }\n",
       "</style>\n",
       "<table border=\"1\" class=\"dataframe\">\n",
       "  <thead>\n",
       "    <tr style=\"text-align: right;\">\n",
       "      <th></th>\n",
       "      <th>error_tag</th>\n",
       "      <th>ID</th>\n",
       "      <th>title</th>\n",
       "      <th>suburb</th>\n",
       "      <th>postcode</th>\n",
       "      <th>property_type</th>\n",
       "      <th>room_no</th>\n",
       "      <th>description</th>\n",
       "      <th>advertiser</th>\n",
       "      <th>average_rent</th>\n",
       "      <th>...</th>\n",
       "      <th>flatmate_gender</th>\n",
       "      <th>couples</th>\n",
       "      <th>smokers</th>\n",
       "      <th>pets</th>\n",
       "      <th>occupation</th>\n",
       "      <th>benefits</th>\n",
       "      <th>references</th>\n",
       "      <th>minage</th>\n",
       "      <th>maxage</th>\n",
       "      <th>gender</th>\n",
       "    </tr>\n",
       "  </thead>\n",
       "  <tbody>\n",
       "    <tr>\n",
       "      <th>0</th>\n",
       "      <td>8</td>\n",
       "      <td>9341566</td>\n",
       "      <td>Newly Refurbished HouseShare - Great Transport!</td>\n",
       "      <td>Abbey Wood</td>\n",
       "      <td>SE2</td>\n",
       "      <td>house</td>\n",
       "      <td>5</td>\n",
       "      <td>\\n                    ***NO ADMIN FEES***Come ...</td>\n",
       "      <td>agent</td>\n",
       "      <td>600.0</td>\n",
       "      <td>...</td>\n",
       "      <td>3Females1Male</td>\n",
       "      <td>No</td>\n",
       "      <td>Yes</td>\n",
       "      <td>No</td>\n",
       "      <td>Professional</td>\n",
       "      <td>No</td>\n",
       "      <td>Yes</td>\n",
       "      <td>20.0</td>\n",
       "      <td>35.0</td>\n",
       "      <td>Malesorfemales</td>\n",
       "    </tr>\n",
       "    <tr>\n",
       "      <th>1</th>\n",
       "      <td>8</td>\n",
       "      <td>3933359</td>\n",
       "      <td>Master  Bedroom Available - Bills Inclusive</td>\n",
       "      <td>Abbey Wood</td>\n",
       "      <td>SE2</td>\n",
       "      <td>house</td>\n",
       "      <td>4</td>\n",
       "      <td>\\n                    A GOOD SIZE DOUBLE ROOM ...</td>\n",
       "      <td>live out landlord</td>\n",
       "      <td>550.0</td>\n",
       "      <td>...</td>\n",
       "      <td>2Males</td>\n",
       "      <td>No</td>\n",
       "      <td>Yes</td>\n",
       "      <td>No</td>\n",
       "      <td>Dontmind</td>\n",
       "      <td>No</td>\n",
       "      <td>No</td>\n",
       "      <td>18.0</td>\n",
       "      <td>50.0</td>\n",
       "      <td>Malesorfemales</td>\n",
       "    </tr>\n",
       "    <tr>\n",
       "      <th>2</th>\n",
       "      <td>8</td>\n",
       "      <td>9089446</td>\n",
       "      <td>Double Room close to Abbey Wood Train Station!</td>\n",
       "      <td>Abbey Wood</td>\n",
       "      <td>SE2</td>\n",
       "      <td>flat</td>\n",
       "      <td>4</td>\n",
       "      <td>\\n                    Your search for the idea...</td>\n",
       "      <td>agent</td>\n",
       "      <td>440.0</td>\n",
       "      <td>...</td>\n",
       "      <td>2Males1Female</td>\n",
       "      <td>No</td>\n",
       "      <td>No</td>\n",
       "      <td>No</td>\n",
       "      <td>Dontmind</td>\n",
       "      <td>No</td>\n",
       "      <td>Yes</td>\n",
       "      <td>NaN</td>\n",
       "      <td>NaN</td>\n",
       "      <td>Malesorfemales</td>\n",
       "    </tr>\n",
       "    <tr>\n",
       "      <th>3</th>\n",
       "      <td>8</td>\n",
       "      <td>9120472</td>\n",
       "      <td>En-suite Double Room for Couples  in Abbey Wood!</td>\n",
       "      <td>Abbey Wood</td>\n",
       "      <td>SE2</td>\n",
       "      <td>house</td>\n",
       "      <td>5</td>\n",
       "      <td>\\n                    Greens Lettings brings t...</td>\n",
       "      <td>agent</td>\n",
       "      <td>625.0</td>\n",
       "      <td>...</td>\n",
       "      <td>2Males2Females</td>\n",
       "      <td>Yes</td>\n",
       "      <td>No</td>\n",
       "      <td>No</td>\n",
       "      <td>Dontmind</td>\n",
       "      <td>No</td>\n",
       "      <td>Yes</td>\n",
       "      <td>NaN</td>\n",
       "      <td>NaN</td>\n",
       "      <td>Malesorfemales</td>\n",
       "    </tr>\n",
       "    <tr>\n",
       "      <th>4</th>\n",
       "      <td>8</td>\n",
       "      <td>9110179</td>\n",
       "      <td>'What?? Spend Less And Get More!'</td>\n",
       "      <td>Abbey Wood</td>\n",
       "      <td>SE2</td>\n",
       "      <td>house</td>\n",
       "      <td>4</td>\n",
       "      <td>\\n                    You will love this gorge...</td>\n",
       "      <td>agent</td>\n",
       "      <td>562.5</td>\n",
       "      <td>...</td>\n",
       "      <td>1Female1Male</td>\n",
       "      <td>No</td>\n",
       "      <td>Yes</td>\n",
       "      <td>No</td>\n",
       "      <td>Dontmind</td>\n",
       "      <td>No</td>\n",
       "      <td>Yes</td>\n",
       "      <td>23.0</td>\n",
       "      <td>40.0</td>\n",
       "      <td>Malesorfemales</td>\n",
       "    </tr>\n",
       "  </tbody>\n",
       "</table>\n",
       "<p>5 rows × 38 columns</p>\n",
       "</div>"
      ],
      "text/plain": [
       "   error_tag       ID                                             title  \\\n",
       "0          8  9341566   Newly Refurbished HouseShare - Great Transport!   \n",
       "1          8  3933359       Master  Bedroom Available - Bills Inclusive   \n",
       "2          8  9089446    Double Room close to Abbey Wood Train Station!   \n",
       "3          8  9120472  En-suite Double Room for Couples  in Abbey Wood!   \n",
       "4          8  9110179                 'What?? Spend Less And Get More!'   \n",
       "\n",
       "       suburb postcode property_type  room_no  \\\n",
       "0  Abbey Wood      SE2         house        5   \n",
       "1  Abbey Wood      SE2         house        4   \n",
       "2  Abbey Wood      SE2          flat        4   \n",
       "3  Abbey Wood      SE2         house        5   \n",
       "4  Abbey Wood      SE2         house        4   \n",
       "\n",
       "                                         description         advertiser  \\\n",
       "0  \\n                    ***NO ADMIN FEES***Come ...              agent   \n",
       "1  \\n                    A GOOD SIZE DOUBLE ROOM ...  live out landlord   \n",
       "2  \\n                    Your search for the idea...              agent   \n",
       "3  \\n                    Greens Lettings brings t...              agent   \n",
       "4  \\n                    You will love this gorge...              agent   \n",
       "\n",
       "   average_rent  ...  flatmate_gender couples smokers pets    occupation  \\\n",
       "0         600.0  ...    3Females1Male      No     Yes   No  Professional   \n",
       "1         550.0  ...           2Males      No     Yes   No      Dontmind   \n",
       "2         440.0  ...    2Males1Female      No      No   No      Dontmind   \n",
       "3         625.0  ...   2Males2Females     Yes      No   No      Dontmind   \n",
       "4         562.5  ...     1Female1Male      No     Yes   No      Dontmind   \n",
       "\n",
       "  benefits references minage maxage          gender  \n",
       "0       No        Yes   20.0   35.0  Malesorfemales  \n",
       "1       No         No   18.0   50.0  Malesorfemales  \n",
       "2       No        Yes    NaN    NaN  Malesorfemales  \n",
       "3       No        Yes    NaN    NaN  Malesorfemales  \n",
       "4       No        Yes   23.0   40.0  Malesorfemales  \n",
       "\n",
       "[5 rows x 38 columns]"
      ]
     },
     "execution_count": 2,
     "metadata": {},
     "output_type": "execute_result"
    }
   ],
   "source": [
    "df.head()"
   ]
  },
  {
   "cell_type": "code",
   "execution_count": 3,
   "metadata": {},
   "outputs": [
    {
     "name": "stdout",
     "output_type": "stream",
     "text": [
      "\n",
      "                    We are proud to offer a double room in Fulham area just minutes away from Putney Bridge Station.The room is furnished with double bed, bedside table, wardrobe and chest of drawers.The communal area is clean and tidy which comprises a fully furnished kitchen, with fridge and freezer, washing machine, microwave and all kitchen appliances.One full-size bathroom to be shared.We offer weekly cleaning and maintenance service, also Wi-Fi as a courtesy.Admin Fee: £200 which covers all the rental procedures and giving all the customer service support during your stay.PLEASE, NO DSS.Please, provide your *email address and *contact number for the viewing confirmation so that we can send the viewing confirmation with flat address details and all information for the rental procedure. Couple Welcome: £980 (with all the bills included)\n",
      "\n"
     ]
    }
   ],
   "source": [
    "example = df[df.advertiser==\"agent\"].sample(n=1)\n",
    "print(example.description.values[0])"
   ]
  },
  {
   "cell_type": "code",
   "execution_count": 4,
   "metadata": {},
   "outputs": [
    {
     "name": "stdout",
     "output_type": "stream",
     "text": [
      "dict_values(['\\n                    We are proud to offer a double room in Fulham area just minutes away from Putney Bridge Station.The room is furnished with double bed, bedside table, wardrobe and chest of drawers.The communal area is clean and tidy which comprises a fully furnished kitchen, with fridge and freezer, washing machine, microwave and all kitchen appliances.One full-size bathroom to be shared.We offer weekly cleaning and maintenance service, also Wi-Fi as a courtesy.Admin Fee: £200 which covers all the rental procedures and giving all the customer service support during your stay.PLEASE, NO DSS.Please, provide your *email address and *contact number for the viewing confirmation so that we can send the viewing confirmation with flat address details and all information for the rental procedure. Couple Welcome: £980 (with all the bills included)\\n'])\n",
      "\n",
      "{'ID': {12575: 9219220},\n",
      " 'advertiser': {12575: 'agent'},\n",
      " 'average_rent': {12575: 850.0},\n",
      " 'balcony_patio': {12575: 'No'},\n",
      " 'benefits': {12575: 'No'},\n",
      " 'bills_included': {12575: 'Yes'},\n",
      " 'broadband': {12575: 'Yes'},\n",
      " 'couples': {12575: 'Yes'},\n",
      " 'deposit': {12575: '0'},\n",
      " 'diasbled_access': {12575: 'No'},\n",
      " 'error_tag': {12575: 8},\n",
      " 'fees_apply': {12575: 'Yes'},\n",
      " 'flatmate_ages': {12575: None},\n",
      " 'flatmate_gender': {12575: 'Male'},\n",
      " 'flatmate_occupation': {12575: ''},\n",
      " 'flatmate_smokers': {12575: 'No'},\n",
      " 'furnishings': {12575: 'Furnished'},\n",
      " 'garage': {12575: 'No'},\n",
      " 'garden_terrace': {12575: 'No'},\n",
      " 'gender': {12575: 'Malesorfemales'},\n",
      " 'household_pets': {12575: 'No'},\n",
      " 'living_room': {12575: 'No'},\n",
      " 'maxage': {12575: nan},\n",
      " 'minage': {12575: nan},\n",
      " 'num_housemates': {12575: None},\n",
      " 'num_rooms': {12575: 3.0},\n",
      " 'occupation': {12575: 'Dontmind'},\n",
      " 'parking': {12575: 'No'},\n",
      " 'pets': {12575: 'No'},\n",
      " 'postcode': {12575: 'SW6'},\n",
      " 'property_type': {12575: 'flat'},\n",
      " 'references': {12575: 'Yes'},\n",
      " 'room_no': {12575: 3},\n",
      " 'smokers': {12575: 'No'},\n",
      " 'suburb': {12575: 'Fulham'},\n",
      " 'title': {12575: 'Amazing Massive Double Room in Fulham'},\n",
      " 'train_distance': {12575: 5.0}}\n"
     ]
    }
   ],
   "source": [
    "from pprint import pprint\n",
    "d = example.to_dict()\n",
    "desc = d.pop(\"description\")\n",
    "print(desc.values())\n",
    "print()\n",
    "pprint(d)"
   ]
  },
  {
   "cell_type": "markdown",
   "metadata": {},
   "source": [
    "What could be useful information?\n",
    "\n",
    "<H> Advert <R> Title <T> title\n",
    "<H> Prooperty <R> is located in <T> Suburb\n",
    "<H> Advert <R> Written by <T> advertiser\n",
    "<H> Room <R> costs <T> average_rent\n",
    "<H> Property <R> has balcony <T> balcony_patio\n",
    "<H> Price <R> includes bills <T> bills_included\n",
    "<H> Flatmates <R> have occupation <T> flatmate_accupation\n",
    "<H> Property <R> is furnished <T> furnishings\n",
    "<H> Property <R> has garden or terrace <T> garden_terrace\n",
    "<H> Property <R> has living room <T> living_room\n",
    "<H> Property <R> contains rooms <T> num_rooms\n",
    "<H> Property <R> is located in <T> postcode\n",
    "<H> Property <R> is a <T> property_type\n",
    "<H> Tenant <R> references required <T> references\n",
    "<H> Property <R> distance to public transport <T> train_distance"
   ]
  },
  {
   "cell_type": "code",
   "execution_count": 5,
   "metadata": {},
   "outputs": [
    {
     "data": {
      "text/plain": [
       "Index(['error_tag', 'ID', 'title', 'suburb', 'postcode', 'property_type',\n",
       "       'room_no', 'description', 'advertiser', 'average_rent',\n",
       "       'train_distance', 'deposit', 'bills_included', 'fees_apply',\n",
       "       'furnishings', 'parking', 'garage', 'garden_terrace', 'balcony_patio',\n",
       "       'diasbled_access', 'living_room', 'broadband', 'num_housemates',\n",
       "       'num_rooms', 'flatmate_ages', 'flatmate_smokers', 'household_pets',\n",
       "       'flatmate_occupation', 'flatmate_gender', 'couples', 'smokers', 'pets',\n",
       "       'occupation', 'benefits', 'references', 'minage', 'maxage', 'gender'],\n",
       "      dtype='object')"
      ]
     },
     "execution_count": 5,
     "metadata": {},
     "output_type": "execute_result"
    }
   ],
   "source": [
    "df.columns"
   ]
  },
  {
   "cell_type": "code",
   "execution_count": 6,
   "metadata": {},
   "outputs": [],
   "source": [
    "import numpy as np\n",
    "def graphify_advert(advert):\n",
    "    source = \"translate Graph to English: \"\n",
    "    source += f'<H> Advert <R> Title <T> {advert[\"title\"]} '\n",
    "    source += f'<H> Property <R> is located in <T> {advert[\"suburb\"]} '\n",
    "    source += f'<H> Advert <R> Written by <T> {advert[\"advertiser\"]} '\n",
    "    source += f'<H> Room <R> costs <T> {advert[\"average_rent\"]} '\n",
    "    source += f'<H> Property <R> has balcony <T> {advert[\"balcony_patio\"]} '\n",
    "    source += f'<H> Price <R> includes bills <T> {advert[\"bills_included\"]} '\n",
    "    source += f'<H> Flatmates <R> have occupation <T> {advert[\"flatmate_occupation\"]} '\n",
    "    source += f'<H> Property <R> is furnished <T> {advert[\"furnishings\"]} '\n",
    "    source += f'<H> Property <R> has garden or terrace <T> {advert[\"garden_terrace\"]} '\n",
    "    source += f'<H> Property <R> has living room <T> {advert[\"living_room\"]} '\n",
    "    source += f'<H> Property <R> contains rooms <T> {advert[\"num_rooms\"]} '\n",
    "    source += f'<H> Property <R> has location postcode <T>  {advert[\"postcode\"]} '\n",
    "    source += f'<H> Property <R> is a <T> {advert[\"property_type\"]} '\n",
    "    source += f'<H> Tenant <R> references required <T>  {advert[\"references\"]} '\n",
    "    source += f'<H> Property <R> distance to public transport <T> {advert[\"train_distance\"]} '\n",
    "    return source\n",
    "\n",
    "def graphify_advert(advert):\n",
    "    source = \"translate Graph to English: \"\n",
    "#     if advert[\"title\"]:\n",
    "#         source += f'Advert: {advert[\"title\"]} '\n",
    "    try:\n",
    "        if advert[\"suburb\"]:\n",
    "            source += f'Suburb: {advert[\"suburb\"]} # '\n",
    "#         if advert[\"advertiser\"]:\n",
    "#             source += f'Advertiser: {advert[\"advertiser\"]} # '\n",
    "        if advert[\"average_rent\"]:\n",
    "            if not np.isnan(advert[\"average_rent\"]):\n",
    "                source += f'Rent: {advert[\"average_rent\"]} # '\n",
    "        if advert[\"balcony_patio\"].lower() == \"yes\":\n",
    "            source += f'Balcony or patio: {advert[\"balcony_patio\"]} # '\n",
    "        if advert[\"bills_included\"].lower() == \"yes\":\n",
    "            source += f'Bills included: {advert[\"bills_included\"]} # '\n",
    "        if advert[\"flatmate_occupation\"]:\n",
    "            source += f'Flatmates occupation: {advert[\"flatmate_occupation\"]} # '\n",
    "        if advert[\"furnishings\"].lower() == \"yes\":\n",
    "            source += f'Funished: {advert[\"furnishings\"]} # '\n",
    "        if advert[\"garden_terrace\"].lower() == \"yes\":\n",
    "            source += f'Garden or terrace: {advert[\"garden_terrace\"]} # '\n",
    "        if advert[\"living_room\"].lower() == \"yes\":\n",
    "            source += f'Living room: {advert[\"living_room\"]} # '\n",
    "        if advert[\"num_rooms\"]:\n",
    "            if not np.isnan(advert[\"num_rooms\"]):\n",
    "                source += f'Number of rooms: {advert[\"num_rooms\"]} # '\n",
    "        if advert[\"postcode\"]:\n",
    "            source += f'Postcode: {advert[\"postcode\"]} # '\n",
    "        if advert[\"property_type\"]:\n",
    "            source += f'Type {advert[\"property_type\"]} # '\n",
    "#         if advert[\"references\"].lower() == \"yes\":\n",
    "#             source += f'References: {advert[\"references\"]} # '\n",
    "#         if advert[\"train_distance\"]:\n",
    "#             if not np.isnan(advert[\"train_distance\"]):\n",
    "#                 source += f'Public transport: {advert[\"train_distance\"]} # '\n",
    "    except AttributeError:\n",
    "        pass\n",
    "    return source\n",
    "\n",
    "def hashify_advert(advert):\n",
    "    source = \"translate Hashtags to English: \"\n",
    "#     if advert[\"title\"]:\n",
    "#         source += f'Advert: {advert[\"title\"]} '\n",
    "    try:\n",
    "        if advert[\"suburb\"]:\n",
    "            source += f'#{advert[\"suburb\"].replace(\" \", \"_\")} '\n",
    "#         if advert[\"advertiser\"]:\n",
    "#             source += f'Advertiser: {advert[\"advertiser\"]} # '\n",
    "        if advert[\"average_rent\"]:\n",
    "            if not np.isnan(advert[\"average_rent\"]):\n",
    "                source += f'#rent_{int(advert[\"average_rent\"])} '\n",
    "        if advert[\"balcony_patio\"].lower() == \"yes\":\n",
    "            source += f'#balcony '\n",
    "        if advert[\"bills_included\"].lower() == \"yes\":\n",
    "            source += f'#bills_included '\n",
    "        if advert[\"flatmate_occupation\"]:\n",
    "            source += f'#{advert[\"flatmate_occupation\"].lower()} '\n",
    "        if advert[\"furnishings\"].lower() == \"yes\":\n",
    "            source += f'#funished '\n",
    "        if advert[\"garden_terrace\"].lower() == \"yes\":\n",
    "            source += f'#garden '\n",
    "        if advert[\"living_room\"].lower() == \"yes\":\n",
    "            source += f'#living_room '\n",
    "        if advert[\"num_rooms\"]:\n",
    "            if not np.isnan(advert[\"num_rooms\"]):\n",
    "                source += f'#{int(advert[\"num_rooms\"])}_bedrooms '\n",
    "        if advert[\"postcode\"]:\n",
    "            source += f'#postcode_{advert[\"postcode\"]} '\n",
    "        if advert[\"property_type\"]:\n",
    "            source += f'#{advert[\"property_type\"]} '\n",
    "#         if advert[\"references\"].lower() == \"yes\":\n",
    "#             source += f'References: {advert[\"references\"]} # '\n",
    "#         if advert[\"train_distance\"]:\n",
    "#             if not np.isnan(advert[\"train_distance\"]):\n",
    "#                 source += f'Public transport: {advert[\"train_distance\"]} # '\n",
    "    except AttributeError:\n",
    "        pass\n",
    "    return source\n",
    "\n",
    "def gptify_advert(advert):\n",
    "    source += f'Advert: {advert[\"title\"]} '\n",
    "    source += f'Suburb: {advert[\"suburb\"]} '\n",
    "    source += f'Advertiser: {advert[\"advertiser\"]} '\n",
    "    source += f'Rent: {advert[\"average_rent\"]} '\n",
    "    source += f'Balcony or patio: {advert[\"balcony_patio\"]} '\n",
    "    source += f'Bills included: {advert[\"bills_included\"]} '\n",
    "    source += f'Flatmates occupation: {advert[\"flatmate_occupation\"]} '\n",
    "    source += f'Funished: {advert[\"furnishings\"]} '\n",
    "    source += f'Garden or terrace: {advert[\"garden_terrace\"]} '\n",
    "    source += f'Living room: {advert[\"living_room\"]} '\n",
    "    source += f'Number of rooms: {advert[\"num_rooms\"]} '\n",
    "    source += f'Postcode: {advert[\"postcode\"]} '\n",
    "    source += f'Type {advert[\"property_type\"]} '\n",
    "    source += f'References: {advert[\"references\"]} '\n",
    "    source += f'Public transport: {advert[\"train_distance\"]} '\n",
    "    return source"
   ]
  },
  {
   "cell_type": "code",
   "execution_count": 7,
   "metadata": {},
   "outputs": [],
   "source": [
    "source = []\n",
    "for i, row in df.iterrows():\n",
    "#     source.append(graphify_advert(row))\n",
    "    source.append(hashify_advert(row))"
   ]
  },
  {
   "cell_type": "code",
   "execution_count": 8,
   "metadata": {},
   "outputs": [],
   "source": [
    "df[\"source\"] = source\n",
    "df[\"n_attrs\"] = df[\"source\"].apply(lambda x: len(x.split(\"#\"))-1)"
   ]
  },
  {
   "cell_type": "code",
   "execution_count": 9,
   "metadata": {},
   "outputs": [],
   "source": [
    "df[\"labels\"] = df[\"description\"].apply(lambda x: x.strip().replace(\"\\n\", \"\").replace(\"*\", \"\"))"
   ]
  },
  {
   "cell_type": "code",
   "execution_count": 10,
   "metadata": {},
   "outputs": [],
   "source": [
    "agent = df[df[\"advertiser\"] == \"agent\"][[\"source\", \"labels\", \"n_attrs\"]]\n",
    "flatmates = df[df[\"advertiser\"].isin([\"former flatmate\", \"current flatmate\", \"current tenants\"])][[\"source\", \"labels\"]]"
   ]
  },
  {
   "cell_type": "code",
   "execution_count": 11,
   "metadata": {},
   "outputs": [
    {
     "data": {
      "text/plain": [
       "(9096, 2)"
      ]
     },
     "execution_count": 11,
     "metadata": {},
     "output_type": "execute_result"
    }
   ],
   "source": [
    "flatmates.shape"
   ]
  },
  {
   "cell_type": "code",
   "execution_count": 12,
   "metadata": {},
   "outputs": [
    {
     "data": {
      "text/plain": [
       "(8702, 3)"
      ]
     },
     "execution_count": 12,
     "metadata": {},
     "output_type": "execute_result"
    }
   ],
   "source": [
    "agent.shape"
   ]
  },
  {
   "cell_type": "code",
   "execution_count": 13,
   "metadata": {},
   "outputs": [
    {
     "data": {
      "text/html": [
       "<div>\n",
       "<style scoped>\n",
       "    .dataframe tbody tr th:only-of-type {\n",
       "        vertical-align: middle;\n",
       "    }\n",
       "\n",
       "    .dataframe tbody tr th {\n",
       "        vertical-align: top;\n",
       "    }\n",
       "\n",
       "    .dataframe thead th {\n",
       "        text-align: right;\n",
       "    }\n",
       "</style>\n",
       "<table border=\"1\" class=\"dataframe\">\n",
       "  <thead>\n",
       "    <tr style=\"text-align: right;\">\n",
       "      <th></th>\n",
       "      <th>source</th>\n",
       "      <th>labels</th>\n",
       "    </tr>\n",
       "  </thead>\n",
       "  <tbody>\n",
       "    <tr>\n",
       "      <th>6</th>\n",
       "      <td>translate Hashtags to English: #Abbey_Wood #re...</td>\n",
       "      <td>Hello Everyone,we are looking for ONE wonderfu...</td>\n",
       "    </tr>\n",
       "    <tr>\n",
       "      <th>17</th>\n",
       "      <td>translate Hashtags to English: #Abbey_Wood #re...</td>\n",
       "      <td>Single bedroom to rent.Current tenant is movin...</td>\n",
       "    </tr>\n",
       "    <tr>\n",
       "      <th>18</th>\n",
       "      <td>translate Hashtags to English: #Abbey_Wood #re...</td>\n",
       "      <td>Key Features:- £520pcm bills inc (gas, electri...</td>\n",
       "    </tr>\n",
       "    <tr>\n",
       "      <th>20</th>\n",
       "      <td>translate Hashtags to English: #Abbey_Wood #re...</td>\n",
       "      <td>Single bedroom to rent in a newly refurbished ...</td>\n",
       "    </tr>\n",
       "    <tr>\n",
       "      <th>21</th>\n",
       "      <td>translate Hashtags to English: #Abbey_Wood #re...</td>\n",
       "      <td>Hey there I’m renting a lovely room in my flat...</td>\n",
       "    </tr>\n",
       "  </tbody>\n",
       "</table>\n",
       "</div>"
      ],
      "text/plain": [
       "                                               source  \\\n",
       "6   translate Hashtags to English: #Abbey_Wood #re...   \n",
       "17  translate Hashtags to English: #Abbey_Wood #re...   \n",
       "18  translate Hashtags to English: #Abbey_Wood #re...   \n",
       "20  translate Hashtags to English: #Abbey_Wood #re...   \n",
       "21  translate Hashtags to English: #Abbey_Wood #re...   \n",
       "\n",
       "                                               labels  \n",
       "6   Hello Everyone,we are looking for ONE wonderfu...  \n",
       "17  Single bedroom to rent.Current tenant is movin...  \n",
       "18  Key Features:- £520pcm bills inc (gas, electri...  \n",
       "20  Single bedroom to rent in a newly refurbished ...  \n",
       "21  Hey there I’m renting a lovely room in my flat...  "
      ]
     },
     "execution_count": 13,
     "metadata": {},
     "output_type": "execute_result"
    }
   ],
   "source": [
    "flatmates.head()"
   ]
  },
  {
   "cell_type": "code",
   "execution_count": 14,
   "metadata": {},
   "outputs": [
    {
     "data": {
      "text/plain": [
       "'translate Hashtags to English: #Gunnerbury_Park #rent_650 #bills_included #professional #2_bedrooms #postcode_W3 #house '"
      ]
     },
     "execution_count": 14,
     "metadata": {},
     "output_type": "execute_result"
    }
   ],
   "source": [
    "flatmates.source.values[100]"
   ]
  },
  {
   "cell_type": "code",
   "execution_count": 15,
   "metadata": {},
   "outputs": [
    {
     "data": {
      "text/plain": [
       "<AxesSubplot:>"
      ]
     },
     "execution_count": 15,
     "metadata": {},
     "output_type": "execute_result"
    },
    {
     "data": {
      "image/png": "[encoded data removed]",
      "text/plain": [
       "<Figure size 432x288 with 1 Axes>"
      ]
     },
     "metadata": {
      "needs_background": "light"
     },
     "output_type": "display_data"
    }
   ],
   "source": [
    "flatmates[\"length\"] = flatmates[\"labels\"].apply(lambda x: len(x.split()))\n",
    "flatmates[\"length\"].hist(bins=50)"
   ]
  },
  {
   "cell_type": "code",
   "execution_count": 16,
   "metadata": {},
   "outputs": [
    {
     "data": {
      "text/plain": [
       "<AxesSubplot:>"
      ]
     },
     "execution_count": 16,
     "metadata": {},
     "output_type": "execute_result"
    },
    {
     "data": {
      "image/png": "[encoded data removed]",
      "text/plain": [
       "<Figure size 432x288 with 1 Axes>"
      ]
     },
     "metadata": {
      "needs_background": "light"
     },
     "output_type": "display_data"
    }
   ],
   "source": [
    "agent[\"length\"] = agent[\"labels\"].apply(lambda x: len(x.split()))\n",
    "agent[\"length\"].hist(bins=50)"
   ]
  },
  {
   "cell_type": "code",
   "execution_count": 17,
   "metadata": {},
   "outputs": [],
   "source": [
    "short_agent_text = agent[(agent[\"length\"] < 256) & (agent[\"n_attrs\"] > 6)]\n",
    "short_agent_text[[\"source\", \"labels\"]].iloc[:3000].to_csv(\"agent_train.csv\", index=False)\n",
    "short_agent_text[[\"source\", \"labels\"]].iloc[3000:].to_csv(\"agent_test.csv\", index=False)"
   ]
  },
  {
   "cell_type": "code",
   "execution_count": 44,
   "metadata": {},
   "outputs": [
    {
     "data": {
      "text/plain": [
       "<AxesSubplot:>"
      ]
     },
     "execution_count": 44,
     "metadata": {},
     "output_type": "execute_result"
    },
    {
     "data": {
      "image/png": "[encoded data removed]",
      "text/plain": [
       "<Figure size 432x288 with 1 Axes>"
      ]
     },
     "metadata": {
      "needs_background": "light"
     },
     "output_type": "display_data"
    }
   ],
   "source": [
    "agent[\"source_length\"] = agent[\"source\"].apply(lambda x: len(x.split()))\n",
    "agent.source_length.hist()"
   ]
  },
  {
   "cell_type": "code",
   "execution_count": 21,
   "metadata": {},
   "outputs": [],
   "source": [
    "df[\"length\"] = df[\"labels\"].apply(lambda x: len(x.split()))\n",
    "all_df = df[(df[\"length\"] > 100) & (df[\"n_attrs\"] > 4) & (df.advertiser != \"agent\")]\n",
    "all_df[[\"source\", \"labels\"]].iloc[:8500].to_csv(\"noagent_train.csv\", index=False)\n",
    "all_df[[\"source\", \"labels\"]].iloc[8500:].to_csv(\"noagent_test.csv\", index=False)"
   ]
  },
  {
   "cell_type": "code",
   "execution_count": 19,
   "metadata": {},
   "outputs": [],
   "source": [
    "from sklearn.model_selection import train_test_split"
   ]
  },
  {
   "cell_type": "code",
   "execution_count": 32,
   "metadata": {},
   "outputs": [],
   "source": [
    "train, test = train_test_split(all_df, train_size=0.99)"
   ]
  },
  {
   "cell_type": "code",
   "execution_count": 33,
   "metadata": {},
   "outputs": [],
   "source": [
    "train[[\"source\", \"labels\"]].to_csv(\"noagent_train.csv\", index=False)\n",
    "test[[\"source\", \"labels\"]].to_csv(\"noagent_test.csv\", index=False)"
   ]
  },
  {
   "cell_type": "code",
   "execution_count": 30,
   "metadata": {},
   "outputs": [
    {
     "data": {
      "text/plain": [
       "(8495, 42)"
      ]
     },
     "execution_count": 30,
     "metadata": {},
     "output_type": "execute_result"
    }
   ],
   "source": [
    "a.shape"
   ]
  },
  {
   "cell_type": "code",
   "execution_count": 31,
   "metadata": {},
   "outputs": [
    {
     "data": {
      "text/plain": [
       "(86, 42)"
      ]
     },
     "execution_count": 31,
     "metadata": {},
     "output_type": "execute_result"
    }
   ],
   "source": [
    "b.shape"
   ]
  },
  {
   "cell_type": "code",
   "execution_count": 52,
   "metadata": {},
   "outputs": [
    {
     "name": "stdout",
     "output_type": "stream",
     "text": [
      "['translate Hashtags to English: #London_E7 #rent_400 #bills_included #garden #3_rooms #postcode_E7 #house ']\n",
      "[\"Large single room available for rent. Ideal and suitable for single FEMALE only. Spacious and furnished room in a nice and clean house. Smoke and pet free house. Comes with shared Garden, kitchen and bathroom.Located in Forest Gate, London, E7 postcode.Rent: £400 Deposit: £250Bills include Broadband 100Meg, Gas, Electricity, Water and Council Tax. No bill to pay. No DSS please.Easy and quick access to Olympic park, Shopping centre, Cafe, Restaurants, Banks, Libraries, Primary/ Secondary Schools, Sports complex, leisure Centre, West Ham Park, Buses, Underground and train stations.Upton Park Tube Station 7 min by walk.Buses: 401, 238, 330, 58, 86, 25. Including Night Buses all close by.Romford Road is 5 min by walk and green street is 1 min by walkOlympic Park, Stratford Internation Station and Westfield Shopping Centre is 12 min by bus. 30 minutes to Oxford Street by train.Nearby University of East London Campus and 20 mins by bus to Queen's Marry University.\"]\n"
     ]
    }
   ],
   "source": [
    "sample = all_df.sample(n=1)\n",
    "print(sample.source.values)\n",
    "print(sample.labels.values)"
   ]
  },
  {
   "cell_type": "code",
   "execution_count": 79,
   "metadata": {},
   "outputs": [
    {
     "data": {
      "text/plain": [
       "<AxesSubplot:>"
      ]
     },
     "execution_count": 79,
     "metadata": {},
     "output_type": "execute_result"
    },
    {
     "data": {
      "image/png": "[encoded data removed]",
      "text/plain": [
       "<Figure size 432x288 with 1 Axes>"
      ]
     },
     "metadata": {
      "needs_background": "light"
     },
     "output_type": "display_data"
    }
   ],
   "source": [
    "df[\"source_length\"] = df[\"source\"].apply(lambda x: len(x.split()))\n",
    "df.source_length.hist()"
   ]
  },
  {
   "cell_type": "code",
   "execution_count": 83,
   "metadata": {},
   "outputs": [
    {
     "data": {
      "text/plain": [
       "<AxesSubplot:>"
      ]
     },
     "execution_count": 83,
     "metadata": {},
     "output_type": "execute_result"
    },
    {
     "data": {
      "image/png": "[encoded data removed]",
      "text/plain": [
       "<Figure size 432x288 with 1 Axes>"
      ]
     },
     "metadata": {
      "needs_background": "light"
     },
     "output_type": "display_data"
    }
   ],
   "source": [
    "df.length.hist()"
   ]
  },
  {
   "cell_type": "code",
   "execution_count": null,
   "metadata": {},
   "outputs": [],
   "source": []
  }
 ],
 "metadata": {
  "kernelspec": {
   "display_name": "Python 3",
   "language": "python",
   "name": "python3"
  },
  "language_info": {
   "codemirror_mode": {
    "name": "ipython",
    "version": 3
   },
   "file_extension": ".py",
   "mimetype": "text/x-python",
   "name": "python",
   "nbconvert_exporter": "python",
   "pygments_lexer": "ipython3",
   "version": "3.8.1"
  }
 },
 "nbformat": 4,
 "nbformat_minor": 4
}
